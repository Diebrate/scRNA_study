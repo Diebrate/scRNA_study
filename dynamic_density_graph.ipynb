{
 "cells": [
  {
   "cell_type": "code",
   "execution_count": 1,
   "metadata": {},
   "outputs": [
    {
     "name": "stderr",
     "output_type": "stream",
     "text": [
      "C:\\Users\\User\\Documents\\GitHub\\scRNA_study\\data_input.py:37: VisibleDeprecationWarning: Creating an ndarray from ragged nested sequences (which is a list-or-tuple of lists-or-tuples-or ndarrays with different lengths or shapes) is deprecated. If you meant to do this, you must specify 'dtype=object' when creating the ndarray\n",
      "  data = np.array([read_data(p_name, 'h5') for p_name in path_names])\n"
     ]
    }
   ],
   "source": [
    "%matplotlib notebook\n",
    "import matplotlib.pyplot as plt\n",
    "from sklearn.decomposition import PCA\n",
    "from ipywidgets import interact, interactive, fixed, interact_manual\n",
    "import ipywidgets as widgets\n",
    "import util\n",
    "import data_input"
   ]
  },
  {
   "cell_type": "code",
   "execution_count": 2,
   "metadata": {},
   "outputs": [],
   "source": [
    "n = len(data_input.time_names)\n",
    "\n",
    "data = []\n",
    "prob = []\n",
    "\n",
    "for i in range(n):\n",
    "    data.append(PCA(2).fit_transform(data_input.data[i]))\n",
    "    prob.append(util.get_kernel_weight_graph(data[i]))\n",
    "\n",
    "def density_graph(i):\n",
    "    data_temp = data[i]\n",
    "    prob_temp = prob[i]\n",
    "    fig = plt.figure(num=i)\n",
    "    ax = fig.gca(projection='3d')\n",
    "    ax.plot_trisurf(data_temp[:,0], data_temp[:,1], prob_temp, cmap='Reds',linewidth=0, antialiased=True, zorder = 0.5)\n",
    "    ax.set_zlabel('Density')\n",
    "    ax.set_title(data_input.time_names[i])\n",
    "    \n",
    "# interact(density_graph, i=widgets.IntSlider(min=0, max=n-1, step=1, value=10))"
   ]
  },
  {
   "cell_type": "code",
   "execution_count": 6,
   "metadata": {},
   "outputs": [],
   "source": [
    "knn_cluster = []\n",
    "hier_cluster = []\n",
    "\n",
    "for i in range(n):\n",
    "    knn_cluster.append(util.cluster_with_best_k(data[i]))\n",
    "    hier_cluster.append(util.cluster_with_best_k_hier(data[i]))"
   ]
  },
  {
   "cell_type": "code",
   "execution_count": 10,
   "metadata": {},
   "outputs": [],
   "source": [
    "def density_cluster_graph(i, method):\n",
    "    data_temp = data[i]\n",
    "    prob_temp = prob[i]\n",
    "    \n",
    "    if method == 'knn':\n",
    "        data_clustered = knn_cluster[i]\n",
    "    elif method =='hier':\n",
    "        data_clustered = hier_cluster[i]\n",
    "\n",
    "    fig = plt.figure(i)\n",
    "    ax = fig.gca(projection='3d')\n",
    "    scatter = ax.scatter(data_temp[:,0], data_temp[:,1], prob_temp, c=data_clustered.labels_, s=0.6)\n",
    "    ax.set_zlabel('Density')\n",
    "    ax.set_title(data_input.time_names[i])\n",
    "    \n",
    "    plt.legend(*scatter.legend_elements(), title=\"Clusters\")\n",
    "    \n",
    "    if method == 'knn':\n",
    "        plt.title('knn ' + data_input.time_names[i])\n",
    "    elif method == 'hier':\n",
    "        plt.title('hierarchy ' + data_input.time_names[i])\n",
    "    \n",
    "    fig.canvas.draw_idle()"
   ]
  },
  {
   "cell_type": "code",
   "execution_count": 11,
   "metadata": {
    "scrolled": false
   },
   "outputs": [
    {
     "data": {
      "application/vnd.jupyter.widget-view+json": {
       "model_id": "f065e2d6cc364326a1dcc97575b54a19",
       "version_major": 2,
       "version_minor": 0
      },
      "text/plain": [
       "interactive(children=(IntSlider(value=10, description='i', max=38), Dropdown(description='method', options=('k…"
      ]
     },
     "metadata": {},
     "output_type": "display_data"
    },
    {
     "data": {
      "text/plain": [
       "<function __main__.density_cluster_graph(i, method)>"
      ]
     },
     "execution_count": 11,
     "metadata": {},
     "output_type": "execute_result"
    }
   ],
   "source": [
    "interact(density_cluster_graph, i=widgets.IntSlider(min=0, max=n-1, step=1, value=10), method=['knn', 'hier'])"
   ]
  },
  {
   "cell_type": "code",
   "execution_count": 5,
   "metadata": {},
   "outputs": [],
   "source": [
    "# plt.close()"
   ]
  }
 ],
 "metadata": {
  "kernelspec": {
   "display_name": "Python 3",
   "language": "python",
   "name": "python3"
  },
  "language_info": {
   "codemirror_mode": {
    "name": "ipython",
    "version": 3
   },
   "file_extension": ".py",
   "mimetype": "text/x-python",
   "name": "python",
   "nbconvert_exporter": "python",
   "pygments_lexer": "ipython3",
   "version": "3.8.5"
  }
 },
 "nbformat": 4,
 "nbformat_minor": 4
}
